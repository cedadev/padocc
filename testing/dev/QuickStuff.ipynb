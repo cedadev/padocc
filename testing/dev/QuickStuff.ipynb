{
 "cells": [
  {
   "cell_type": "code",
   "execution_count": 1,
   "id": "4af221e1-732f-43e1-8a46-bd49665b0b69",
   "metadata": {},
   "outputs": [
    {
     "data": {
      "text/plain": [
       "['/neodc/esacci/biomass/data/agb/maps/v4.0/netcdf/ESACCI-BIOMASS-L4-AGB-*MERGED*nc,ESACCI-BIOMASS-L4-AGB-MERGED-100m-2010-2020-fv4.0',\n",
       " '/neodc/esacci/cloud/data/version3/L3C/ATSR2-AATSR/v3.0/*/*/*nc,ESACCI-L3C_CLOUD-CLD_PRODUCTS-ATSR2_AATSR-199506-201204-fv3.0',\n",
       " '/neodc/esacci/cloud/data/version3/L3C/AVHRR-AM/v3.0/*/*/*nc,ESACCI-L3C_CLOUD-CLD_PRODUCTS-AVHRR_PM-198201-201612-fv3.0',\n",
       " '/neodc/esacci/cloud/data/version3/L3C/AVHRR-PM/v3.0/*/*/*nc,ESACCI-L3C_CLOUD-CLD_PRODUCTS-AVHRR_AM-199109-201612-fv3.0',\n",
       " '/neodc/esacci/ocean_colour/data/v6.0-release/geographic/netcdf/all_products/monthly/v6.0/*/*nc,ESACCI-OC-L3S-OC_PRODUCTS-MERGED-1M_MONTHLY_4km_GEO_PML_OCx_QAA-199709-202212-fv6.0',\n",
       " '/neodc/esacci/ocean_colour/data/v6.0-release/geographic/netcdf/chlor_a/monthly/v6.0/*/*nc,ESACCI-OC-L3S-CHLOR_A-MERGED-1M_MONTHLY_4km_GEO_PML_OCx-199709-202212-fv6.0',\n",
       " '/neodc/esacci/ocean_colour/data/v6.0-release/geographic/netcdf/iop/monthly/v6.0/*/*nc,ESACCI-OC-L3S-IOP-MERGED-1M_MONTHLY_4km_GEO_PML_OCx_QAA-199709-202212-fv6.0',\n",
       " '/neodc/esacci/ocean_colour/data/v6.0-release/geographic/netcdf/kd/monthly/v6.0/*/*nc,ESACCI-OC-L3S-K_490-MERGED-1M_MONTHLY_4km_GEO_PML_KD490_Lee-199709-202212-fv6.0',\n",
       " '/neodc/esacci/ocean_colour/data/v6.0-release/geographic/netcdf/rrs/monthly/v6.0/*/*nc,ESACCI-OC-L3S-RRS-MERGED-1M_MONTHLY_4km_GEO_PML_RRS-199709-202212-fv6.0',\n",
       " '/neodc/esacci/snow/data/swe/MERGED/v2.0/*/*/*nc,ESACCI-L3C_SNOW-SWE-MERGED-19790102-20200524-fv2.0',\n",
       " '/neodc/esacci/land_cover/data/land_cover_maps/v2.0.7/*nc,ESACCI-LC-L4-LCCS-Map-300m-P1Y-1992-2015-v2.0.7b',\n",
       " '/neodc/esacci/land_cover/data/pft/v2.0.8/*nc,ESACCI-LC-L4-PFT-Map-300m-P1Y-1992-2020-v2.0.8',\n",
       " '/neodc/esacci/land_surface_temperature/data/TERRA_MODIS/L3C/0.01/v3.00/monthly/*/*/*MONTHLY_DAY*.nc,ESACCI-LST-L3C-LST-MODIST-0.01deg_1MONTHLY_DAY-200003-201812-fv3.00',\n",
       " '/neodc/esacci/land_surface_temperature/data/TERRA_MODIS/L3C/0.01/v3.00/monthly/*/*/*MONTHLY_NIGHT*.nc,ESACCI-LST-L3C-LST-MODIST-0.01deg_1MONTHLY_NIGHT-200003-201812-fv3.00',\n",
       " '/neodc/esacci/land_surface_temperature/data/AQUA_MODIS/L3C/0.01/v3.00/monthly/*/*/*MONTHLY_NIGHT*.nc,ESACCI-LST-L3C-LST-MODISA-0.01deg_1MONTHLY_NIGHT-200207-201812-fv3.00',\n",
       " '/neodc/esacci/land_surface_temperature/data/AQUA_MODIS/L3C/0.01/v3.00/monthly/*/*/*MONTHLY_DAY*.nc,ESACCI-LST-L3C-LST-MODISA-0.01deg_1MONTHLY_DAY-200207-201812-fv3.00',\n",
       " '/neodc/esacci/land_surface_temperature/data/MULTISENSOR_IRCDR/L3S/0.01/v2.00/monthly/*/*/ESACCI-LST-L3S-LST-IRCDR_-0.01deg_1MONTHLY_*DAY*nc,ESACCI-LST-L3S-LST-IRCDR_-0.01deg_1MONTHLY_DAY-199508-202012-fv2.00',\n",
       " '/neodc/esacci/land_surface_temperature/data/MULTISENSOR_IRCDR/L3S/0.01/v2.00/monthly/*/*/ESACCI-LST-L3S-LST-IRCDR_-0.01deg_1MONTHLY_*NIGHT*nc,ESACCI-LST-L3S-LST-IRCDR_-0.01deg_1MONTHLY_NIGHT-199508-202012-fv2.00',\n",
       " '/neodc/esacci/sea_ice/data/sea_ice_thickness/L3C/cryosat2/v2.0/NH/*/ESACCI-SEAICE-L3C-SITHICK-SIRAL_CRYOSAT2-NH25KMEASE2-*nc,ESACCI-SEAICE-L3C-SITHICK-SIRAL_CRYOSAT2-NH25KMEASE2-201011-201704-fv2.0',\n",
       " '/neodc/esacci/sea_ice/data/sea_ice_thickness/L3C/cryosat2/v2.0/SH/*/ESACCI-SEAICE-L3C-SITHICK-SIRAL_CRYOSAT2*nc,ESACCI-SEAICE-L3C-SITHICK-SIRAL_CRYOSAT2-SH50KMEASE2-201011-201704-fv2.0',\n",
       " '/neodc/esacci/sea_ice/data/sea_ice_thickness/L3C/envisat/v2.0/SH/*/*nc,ESACCI-SEAICE-L3C-SITHICK-RA2_ENVISAT-SH50KMEASE2-200206-201203-fv2.0',\n",
       " '/neodc/esacci/sea_ice/data/sea_ice_thickness/L3C/envisat/v2.0/NH/*/*nc,ESACCI-SEAICE-L3C-SITHICK-RA2_ENVISAT-NH25KMEASE2-200210-201203-fv2.0',\n",
       " '/neodc/esacci/sea_ice/data/sea_ice_concentration/L4/ssmi_ssmis/12.5km/v3.0/NH/*/*/*nc,ESACCI-SEAICE-L4-SICONC-RE_SSMI_12.5kmEASE2-NH-19910107-20201231-fv3.0',\n",
       " '/neodc/esacci/sea_ice/data/sea_ice_concentration/L4/ssmi_ssmis/12.5km/v3.0/SH/*/*/*nc,ESACCI-SEAICE-L4-SICONC-RE_SSMI_12.5kmEASE2-SH-19910107-20201231-fv3.0',\n",
       " '/neodc/esacci/fire/data/burned_area/MODIS/grid/v5.1/*/*nc,ESACCI-L4_FIRE-BA-MODIS-20010101-20200120-fv5.1',\n",
       " '/neodc/esacci/soil_moisture/data/daily_files/ACTIVE/v07.1/*/*nc,ESACCI-SOILMOISTURE-L3S-SSMS-ACTIVE-19910805-20211231-fv07.1',\n",
       " '/neodc/esacci/soil_moisture/data/daily_files/PASSIVE/v07.1/*/*nc,ESACCI-SOILMOISTURE-L3S-SSMV-PASSIVE-19781101-20211231-fv07.1',\n",
       " '/neodc/esacci/soil_moisture/data/daily_files/COMBINED/v07.1/*/*nc,ESACCI-SOILMOISTURE-L3S-SSMV-COMBINED-19781101-20211231-fv07.1',\n",
       " '/neodc/esacci/soil_moisture/data/daily_files/break_adjusted_COMBINED/v07.1/*/*nc,ESACCI-SOILMOISTURE-L3S-SSMV-COMBINED_ADJUSTED-19781101-20211231-fv07.1',\n",
       " '/neodc/esacci/permafrost/data/active_layer_thickness/L4/area4/pp/v03.0/*CRYOGRID*nc,ESACCI-PERMAFROST-L4-ALT-MODISLST_CRYOGRID-AREA4_PP-2003-2019-fv03.0',\n",
       " '/neodc/esacci/permafrost/data/active_layer_thickness/L4/area4/pp/v03.0/*ERA5_MODISLST_BIASCORRECTED*nc,ESACCI-PERMAFROST-L4-ALT-ERA5_MODISLST_BIASCORRECTED-AREA4_PP-1997-2002-fv03.0',\n",
       " '/neodc/esacci/biomass/data/agb/maps/v4.0/netcdf/ESACCI-BIOMASS-L4-AGB-CHANGE-100m-2020-2010-fv4.0.nc,ESACCI-BIOMASS-L4-AGB-CHANGE-100m-2020-2010-fv4.0',\n",
       " '/neodc/esacci/biomass/data/agb/maps/v4.0/netcdf/ESACCI-BIOMASS-L4-AGB-CHANGE-100m-2018-2017-fv4.0.nc,ESACCI-BIOMASS-L4-AGB-CHANGE-100m-2018-2017-fv4.0',\n",
       " '/neodc/esacci/biomass/data/agb/maps/v4.0/netcdf/ESACCI-BIOMASS-L4-AGB-CHANGE-100m-2019-2018-fv4.0.nc,ESACCI-BIOMASS-L4-AGB-CHANGE-100m-2019-2018-fv4.0',\n",
       " '/neodc/esacci/biomass/data/agb/maps/v4.0/netcdf/ESACCI-BIOMASS-L4-AGB-CHANGE-100m-2020-2019-fv4.0.nc,ESACCI-BIOMASS-L4-AGB-CHANGE-100m-2020-2019-fv4.0']"
      ]
     },
     "execution_count": 1,
     "metadata": {},
     "output_type": "execute_result"
    }
   ],
   "source": [
    "workdir = '/gws/nopw/j04/esacci_portal/kerchunk'\n",
    "\n",
    "with open(f'{workdir}/filesets.csv') as f:\n",
    "    content = [r.replace('\\n','') for r in f.readlines()]\n",
    "\n",
    "content"
   ]
  },
  {
   "cell_type": "code",
   "execution_count": 2,
   "id": "a5623cca-4bad-4ed9-bc55-896bb14b9248",
   "metadata": {},
   "outputs": [],
   "source": [
    "import os\n",
    "import json\n",
    "import glob\n",
    "\n",
    "kfiles, lastfiles = [],[]\n",
    "\n",
    "for line in content:\n",
    "    proj_code = line.split(',')[1]\n",
    "\n",
    "    filelist = f'{workdir}/all_filelists/{proj_code}.txt'\n",
    "    kfile   = glob.glob(f'{workdir}/DELIVERY_09_10_23/{proj_code}*.json')\n",
    "    if type(kfile) == list:\n",
    "        kfile = kfile[-1]\n",
    "    kfiles.append(kfile)\n",
    "\n",
    "    # Make corrections here\n",
    "\n",
    "    with open(filelist) as f:\n",
    "        lastfiles.append(f.readlines()[-1].replace('\\n',''))\n",
    "    "
   ]
  },
  {
   "cell_type": "code",
   "execution_count": 3,
   "id": "be88a5e4-e4db-4071-8192-01a6c8d2cdf8",
   "metadata": {},
   "outputs": [
    {
     "data": {
      "text/plain": [
       "(35, 35)"
      ]
     },
     "execution_count": 3,
     "metadata": {},
     "output_type": "execute_result"
    }
   ],
   "source": [
    "len(kfiles), len(lastfiles)"
   ]
  },
  {
   "cell_type": "code",
   "execution_count": 4,
   "id": "e5920670-ee26-4cf1-aa27-cbe291274830",
   "metadata": {},
   "outputs": [],
   "source": [
    "import xarray as xr"
   ]
  },
  {
   "cell_type": "code",
   "execution_count": null,
   "id": "9ee10d71-a26d-40c2-91c9-5c951365a06d",
   "metadata": {},
   "outputs": [],
   "source": [
    "for index in range(4,5):\n",
    "    kfile = kfiles[index]\n",
    "    xfile = lastfiles[index]\n",
    "\n",
    "    tce = xr.open_dataset(xfile).attrs['time_coverage_end']\n",
    "    try:\n",
    "        with open(kfile) as f:\n",
    "            refs = json.load(f)\n",
    "        zattrs = json.loads(refs['refs']['.zattrs'])\n",
    "        if tce != zattrs['time_coverage_end']:\n",
    "            zattrs['time_coverage_end'] = tce\n",
    "            refs['refs']['.zattrs'] = json.dumps(zattrs)\n",
    "            #with open(kfile,'w') as f:\n",
    "                #f.write(json.dumps(refs))\n",
    "        else:\n",
    "            print(index, 'OK')\n",
    "    except:\n",
    "        print('Err',index)"
   ]
  },
  {
   "cell_type": "code",
   "execution_count": 1,
   "id": "65a0f073-3134-44f5-a8b8-2a31a6edd4ff",
   "metadata": {},
   "outputs": [],
   "source": [
    "str = \"\"\"\n",
    "ESACCI-BIOMASS-L4-AGB-MERGED-100m-2010-2020-fv4.0-kr1.1.json, 20101231T235959Z,20201231T235959Z\n",
    "ESACCI-OC-L3S-OC_PRODUCTS-MERGED-1M_MONTHLY_4km_GEO_PML_OCx_QAA-199709-202212-fv6.0-kr1.1.json, 199709302359Z,202212312359Z\n",
    "ESACCI-OC-L3S-CHLOR_A-MERGED-1M_MONTHLY_4km_GEO_PML_OCx-199709-202212-fv6.0-kr1.1.json, 199709302359Z,202212312359Z\n",
    "ESACCI-OC-L3S-IOP-MERGED-1M_MONTHLY_4km_GEO_PML_OCx_QAA-199709-202212-fv6.0-kr1.1.json, 199709302359Z,202212312359Z\n",
    "ESACCI-OC-L3S-K_490-MERGED-1M_MONTHLY_4km_GEO_PML_KD490_Lee-199709-202212-fv6.0-kr1.1.json, 199709302359Z,202212312359Z\n",
    "ESACCI-OC-L3S-RRS-MERGED-1M_MONTHLY_4km_GEO_PML_RRS-199709-202212-fv6.0-kr1.1.json, 199709302359Z,202212312359Z\n",
    "ESACCI-L3C_SNOW-SWE-MERGED-19790102-20200524-fv2.0-kr1.1.json, 19790102T235959Z,20200524T235959Z\n",
    "ESACCI-LC-L4-PFT-Map-300m-P1Y-1992-2020-v2.0.8-kr1.1.json, 19921231,20201231\n",
    "ESACCI-LST-L3C-LST-MODIST-0.01deg_1MONTHLY_DAY-200003-201812-fv3.00-kr1.1.json, 20000331T235959,20181231T235959\n",
    "ESACCI-LST-L3C-LST-MODIST-0.01deg_1MONTHLY_NIGHT-200003-201812-fv3.00-kr1.1.json, 20000331T235959,20181231T235959\n",
    "ESACCI-LST-L3C-LST-MODISA-0.01deg_1MONTHLY_NIGHT-200207-201812-fv3.00-kr1.1.json, 20020731T235959,20181231T235959\n",
    "ESACCI-LST-L3C-LST-MODISA-0.01deg_1MONTHLY_DAY-200207-201812-fv3.00-kr1.1.json, 20020731T235959,20181231T235959\n",
    "ESACCI-LST-L3S-LST-IRCDR_-0.01deg_1MONTHLY_DAY-199508-202012-fv2.00-kr1.1.json, 19950831T235959,20201231T235959\n",
    "ESACCI-LST-L3S-LST-IRCDR_-0.01deg_1MONTHLY_NIGHT-199508-202012-fv2.00-kr1.1.json, 19950831T235959,20201231T235959\n",
    "ESACCI-SEAICE-L3C-SITHICK-SIRAL_CRYOSAT2-NH25KMEASE2-201011-201704-fv2.0-kr1.1.json, 20101130T235959Z,20170430T235959Z\n",
    "ESACCI-SEAICE-L3C-SITHICK-SIRAL_CRYOSAT2-SH50KMEASE2-201011-201704-fv2.0-kr1.1.json, 20101130T235959Z   ,   20170430T235959Z\n",
    "ESACCI-SEAICE-L3C-SITHICK-RA2_ENVISAT-SH50KMEASE2-200206-201203-fv2.0-kr1.1.json, 20020630T235959Z   ,   20120331T235959Z\n",
    "ESACCI-SEAICE-L3C-SITHICK-RA2_ENVISAT-NH25KMEASE2-200210-201203-fv2.0-kr1.1.json, 20021031T235959Z   ,   20120331T235959Z\n",
    "ESACCI-SEAICE-L4-SICONC-RE_SSMI_12.5kmEASE2-NH-19910107-20201231-fv3.0-kr1.1.json, 1991-01-08T00:00:00Z   ,   2021-01-01T00:00:00Z\n",
    "ESACCI-SEAICE-L4-SICONC-RE_SSMI_12.5kmEASE2-SH-19910107-20201231-fv3.0-kr1.1.json, 1991-01-08T00:00:00Z   ,   2021-01-01T00:00:00Z\n",
    "ESACCI-SOILMOISTURE-L3S-SSMS-ACTIVE-19910805-20211231-fv07.1-kr1.1.json, 19910805T235959Z   ,   20211231T235959Z\n",
    "ESACCI-SOILMOISTURE-L3S-SSMV-PASSIVE-19781101-20211231-fv07.1-kr1.1.json, 19781101T235959Z   ,   20211231T235959Z\n",
    "ESACCI-SOILMOISTURE-L3S-SSMV-COMBINED-19781101-20211231-fv07.1-kr1.1.json, 19781101T235959Z   ,   20211231T235959Z\n",
    "ESACCI-SOILMOISTURE-L3S-SSMV-COMBINED_ADJUSTED-19781101-20211231-fv07.1-kr1.1.json, 19781101T235959Z   ,   20211231T235959Z\n",
    "ESACCI-PERMAFROST-L4-ALT-MODISLST_CRYOGRID-AREA4_PP-2003-2019-fv03.0-kr1.1.json, 20031231000000   ,   20191231000000\n",
    "ESACCI-PERMAFROST-L4-ALT-ERA5_MODISLST_BIASCORRECTED-AREA4_PP-1997-2002-fv03.0-kr1.1.json, 19971231000000   ,   20021231000000\n",
    "\"\"\""
   ]
  },
  {
   "cell_type": "code",
   "execution_count": 2,
   "id": "460f9628-99cc-46a1-ac65-1232832a99b3",
   "metadata": {},
   "outputs": [],
   "source": [
    "str1 = str.replace(' ','')"
   ]
  },
  {
   "cell_type": "code",
   "execution_count": null,
   "id": "3ec32d62-045d-4a34-9cc6-15f2c2d41e8c",
   "metadata": {},
   "outputs": [],
   "source": [
    "str1"
   ]
  },
  {
   "cell_type": "code",
   "execution_count": 5,
   "id": "c86a5f61-d731-4b28-95f4-006f501c21c6",
   "metadata": {},
   "outputs": [],
   "source": [
    "import os\n",
    "import glob\n",
    "import json"
   ]
  },
  {
   "cell_type": "code",
   "execution_count": null,
   "id": "5f676be6-ada3-4177-b540-576e782cea69",
   "metadata": {},
   "outputs": [],
   "source": [
    "for x, s in enumerate(str1.split('\\n')):\n",
    "    slist = s.split(\",\")\n",
    "    try:\n",
    "        print(f'sed -i \"s+{slist[1]}+{slist[2]}+g\" {workdir}/DELIVERY_09_10_23/{s.split(\",\")[0]}', end=' && ')\n",
    "    except:\n",
    "        pass"
   ]
  },
  {
   "cell_type": "code",
   "execution_count": null,
   "id": "5b3e0c8f-dd95-4634-847e-5126f621f90a",
   "metadata": {},
   "outputs": [],
   "source": []
  }
 ],
 "metadata": {
  "kernelspec": {
   "display_name": "kvenv",
   "language": "python",
   "name": "kvenv"
  },
  "language_info": {
   "codemirror_mode": {
    "name": "ipython",
    "version": 3
   },
   "file_extension": ".py",
   "mimetype": "text/x-python",
   "name": "python",
   "nbconvert_exporter": "python",
   "pygments_lexer": "ipython3",
   "version": "3.10.5"
  }
 },
 "nbformat": 4,
 "nbformat_minor": 5
}
