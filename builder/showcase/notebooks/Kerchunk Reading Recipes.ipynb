{
 "cells": [
  {
   "cell_type": "markdown",
   "id": "2ef50b3c-05bb-443c-a50e-0cb9d8a6c777",
   "metadata": {},
   "source": [
    "# Kerchunk Reading Recipes\n",
    "Here we give examples of different formats for Kerchunk which require specific Recipes to open.\n",
    "\n",
    "Access Control:\n",
    " - No credentials\n",
    " - Certificate Credentials\n",
    " - Token Credentials\n",
    "\n",
    "Link Type:\n",
    " - Local Kerchunk File\n",
    " - Kerchunk over HTTPS (Kerchunk file itself is HTTPS link)\n",
    " - Kerchunk via S3\n",
    "\n",
    "Kerchunk Type:\n",
    " - Standard Kerchunk JSON\n",
    " - Kerchunk ZSTD\n",
    " - Kerchunk Parquet\n",
    "\n",
    "See https://stfc365-my.sharepoint.com/:x:/r/personal/daniel_westwood_stfc_ac_uk/_layouts/15/Doc.aspx?sourcedoc=%7B1A4A6C96-4291-40D7-A6E3-4665AEA57EF1%7D&file=Book.xlsx&action=editnew&mobileredirect=true&wdNewAndOpenCt=1696858849368&ct=1696858849741&wdPreviousSession=d8a3c4f4-b716-409a-8793-00cba44b2d8f&wdOrigin=OFFICECOM-WEB.START.NEW&login_hint=daniel.westwood%40stfc.ac.uk&cid=d063908b-7e3c-42c1-9bfb-f7c700f38fe7&wdPreviousSessionSrc=HarmonyWeb for a summary of known recipes"
   ]
  },
  {
   "cell_type": "code",
   "execution_count": null,
   "id": "ea29521e-3a06-4048-ba6d-685b4bd3729d",
   "metadata": {},
   "outputs": [],
   "source": [
    "import fsspec\n",
    "import xarray as xr\n",
    "import s3fs\n",
    "\n",
    "import aiohttp\n",
    "import asyncio\n",
    "import requests\n",
    "import ssl\n",
    "from fsspec.implementations.reference import LazyReferenceMapper"
   ]
  },
  {
   "cell_type": "markdown",
   "id": "f5f3cb6d-bc57-4e72-a988-929e8ba2a814",
   "metadata": {},
   "source": [
    "## Access Control: No Credentials\n",
    "Opening sequences for Kerchunk with No Access control\n",
    "\n",
    "### Local K File Opening"
   ]
  },
  {
   "cell_type": "code",
   "execution_count": null,
   "id": "f1db789e-6922-4f74-8568-f8ac291c6da1",
   "metadata": {},
   "outputs": [],
   "source": [
    "# Standard Kerchunk JSON\n",
    "kfile  = 'kerchunk.json'\n",
    "mapper = fsspec.get_mapper(\n",
    "    'reference://', # Required\n",
    "    fo=kfile,       # Required\n",
    "    **get_mapper_kwargs)\n",
    "\n",
    "ds = xr.open_zarr(\n",
    "    kfile,          # Required\n",
    "    **open_zarr_kwargs) \n",
    "\n",
    "# Requires get_mapper_kwargs, open_zarr_kwargs (consolidated=False, decode_times=False, decode_timedelta=False)"
   ]
  },
  {
   "cell_type": "code",
   "execution_count": null,
   "id": "3a8239a6-c2ee-4ff8-a6cc-3a0da74ca0fe",
   "metadata": {},
   "outputs": [],
   "source": [
    "# Kerchunk ZSTD\n",
    "kzstd  = 'kerchunk.zst'\n",
    "mapper = fsspec.get_mapper(\n",
    "    'reference://', # Required\n",
    "    fo=kzstd,       # Required\n",
    "    target_options={'compression':'zstd'}  # Required\n",
    "    **get_mapper_kwargs)\n",
    "\n",
    "ds = xr.open_zarr(\n",
    "    kfile,          # Required\n",
    "    **open_zarr_kwargs) \n",
    "\n",
    "# Requires get_mapper_kwargs, open_zarr_kwargs (consolidated=False, decode_times=False, decode_timedelta=False)"
   ]
  },
  {
   "cell_type": "code",
   "execution_count": null,
   "id": "4fee36aa-0efc-4e14-af56-a054a07551de",
   "metadata": {},
   "outputs": [],
   "source": [
    "# Kerchunk Parquet\n",
    "kstore = 'kerchunk.parq'\n",
    "fs = fsspec.implementations.reference.ReferenceFileSystem(\n",
    "    kstore,                   # Required\n",
    "    remote_protocol='file',   # Required\n",
    "    target_protocol=\"file\",   # Required\n",
    "    lazy=True,                # Required\n",
    "    **rfs_kwargs)\n",
    "\n",
    "ds = xr.open_dataset(\n",
    "    fs.get_mapper(),          # Required\n",
    "    engine=\"zarr\",            # Required\n",
    "    **open_dataset_kwargs)\n",
    "\n",
    "# Requires rfs_kwargs, open_dataset_kwargs (backend_kwargs={\"consolidated\": False, \"decode_times\": False})"
   ]
  },
  {
   "cell_type": "markdown",
   "id": "11bce8d3-05c0-4d34-9662-362dda85e73e",
   "metadata": {},
   "source": [
    "## Kerchunk over HTTPS"
   ]
  },
  {
   "cell_type": "markdown",
   "id": "ba309514-4e61-441b-9b04-c720611dd012",
   "metadata": {},
   "source": [
    "## Kerchunk via S3"
   ]
  },
  {
   "cell_type": "code",
   "execution_count": null,
   "id": "cbafb600-e121-485e-afde-c489858bc2b7",
   "metadata": {},
   "outputs": [],
   "source": [
    "# Standard Kerchunk JSON\n",
    "kfile = \"s3://test_bucket/kerchunk.json\"\n",
    "ref = s3fs.S3FileSystem(**fssopts)    # fssopts - key, secret, client_kwargs\n",
    "ref = ref.open(kfile)                 # s3open  - compression=None\n",
    "\n",
    "mapper = fsspec.get_mapper(\n",
    "    \"reference://\", \n",
    "    fo=ref,\n",
    "    target_protocol=\"http\", \n",
    "    remote_options=fssopts, \n",
    "    target_options={\"compression\": None}\n",
    ")\n",
    "xobj = xr.open_zarr(mapper, **_xr_open_args)\n",
    "\n",
    "# Requires s3fssopts_kwargs, get_mapper_kwargs, open_zarr_kwargs"
   ]
  },
  {
   "cell_type": "code",
   "execution_count": null,
   "id": "48f88db7-885e-4bca-9339-3e5a08ec9d51",
   "metadata": {},
   "outputs": [],
   "source": [
    "# Kerchunk ZSTD\n",
    "kfile = \"s3://test_bucket/kerchunk.zst\"\n",
    "ref = s3fs.S3FileSystem(**fssopts)    # fssopts - key, secret, client_kwargs\n",
    "ref = ref.open(kfile)                 # s3open  - compression=None\n",
    "\n",
    "mapper = fsspec.get_mapper(\n",
    "    \"reference://\", \n",
    "    fo=ref,\n",
    "    target_protocol=\"http\", \n",
    "    remote_options=fssopts, \n",
    "    target_options={\"compression\": 'zstd'} # Simple change\n",
    ")\n",
    "xobj = xr.open_zarr(mapper, **_xr_open_args)\n",
    "\n",
    "# Requires s3fssopts_kwargs, get_mapper_kwargs, open_zarr_kwargs"
   ]
  },
  {
   "cell_type": "code",
   "execution_count": null,
   "id": "c284564f-fd34-4e58-8cd8-3f9917259faf",
   "metadata": {},
   "outputs": [],
   "source": [
    "# Kerchunk Parquet?\n"
   ]
  }
 ],
 "metadata": {
  "kernelspec": {
   "display_name": "build_venv",
   "language": "python",
   "name": "build_venv"
  },
  "language_info": {
   "codemirror_mode": {
    "name": "ipython",
    "version": 3
   },
   "file_extension": ".py",
   "mimetype": "text/x-python",
   "name": "python",
   "nbconvert_exporter": "python",
   "pygments_lexer": "ipython3",
   "version": "3.10.5"
  }
 },
 "nbformat": 4,
 "nbformat_minor": 5
}
