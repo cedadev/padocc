{
 "cells": [
  {
   "cell_type": "code",
   "execution_count": 3,
   "id": "7e0e9bb4-8ee7-4053-a3a6-1c95832dceea",
   "metadata": {},
   "outputs": [
    {
     "name": "stdout",
     "output_type": "stream",
     "text": [
      "seff 19433517_0 > temp.txt\n"
     ]
    },
    {
     "name": "stderr",
     "output_type": "stream",
     "text": [
      "sh: line 1: seff: command not found\n"
     ]
    },
    {
     "ename": "IndexError",
     "evalue": "list index out of range",
     "output_type": "error",
     "traceback": [
      "\u001b[0;31m---------------------------------------------------------------------------\u001b[0m",
      "\u001b[0;31mIndexError\u001b[0m                                Traceback (most recent call last)",
      "Cell \u001b[0;32mIn[3], line 19\u001b[0m\n\u001b[1;32m     16\u001b[0m \u001b[38;5;28;01mwith\u001b[39;00m \u001b[38;5;28mopen\u001b[39m(\u001b[38;5;124m'\u001b[39m\u001b[38;5;124mtemp.txt\u001b[39m\u001b[38;5;124m'\u001b[39m) \u001b[38;5;28;01mas\u001b[39;00m f:\n\u001b[1;32m     17\u001b[0m     contents \u001b[38;5;241m=\u001b[39m [r\u001b[38;5;241m.\u001b[39mstrip() \u001b[38;5;28;01mfor\u001b[39;00m r \u001b[38;5;129;01min\u001b[39;00m f\u001b[38;5;241m.\u001b[39mreadlines()]\n\u001b[0;32m---> 19\u001b[0m \u001b[38;5;28;01mif\u001b[39;00m \u001b[38;5;124m'\u001b[39m\u001b[38;5;124mCOMPLETED\u001b[39m\u001b[38;5;124m'\u001b[39m \u001b[38;5;129;01min\u001b[39;00m \u001b[43mcontents\u001b[49m\u001b[43m[\u001b[49m\u001b[38;5;241;43m4\u001b[39;49m\u001b[43m]\u001b[49m:\n\u001b[1;32m     20\u001b[0m     memory_used \u001b[38;5;241m=\u001b[39m contents[\u001b[38;5;241m9\u001b[39m]\u001b[38;5;241m.\u001b[39msplit(\u001b[38;5;124m'\u001b[39m\u001b[38;5;124m:\u001b[39m\u001b[38;5;124m'\u001b[39m)[\u001b[38;5;241m-\u001b[39m\u001b[38;5;241m1\u001b[39m]\n\u001b[1;32m     22\u001b[0m \u001b[38;5;28;01mwith\u001b[39;00m \u001b[38;5;28mopen\u001b[39m(\u001b[38;5;124mf\u001b[39m\u001b[38;5;124m'\u001b[39m\u001b[38;5;132;01m{\u001b[39;00mtemplate\u001b[38;5;132;01m}\u001b[39;00m\u001b[38;5;124m/\u001b[39m\u001b[38;5;132;01m{\u001b[39;00mproj_codes[x]\u001b[38;5;132;01m}\u001b[39;00m\u001b[38;5;124m/detail-cfg.json\u001b[39m\u001b[38;5;124m'\u001b[39m) \u001b[38;5;28;01mas\u001b[39;00m f:\n",
      "\u001b[0;31mIndexError\u001b[0m: list index out of range"
     ]
    }
   ],
   "source": [
    "import os\n",
    "import json\n",
    "\n",
    "with open('/gws/nopw/j04/cmip6_prep_vol1/kerchunk-pipeline/groups/CMIP6_rel1_6233/proj_codes_httpcache.txt') as f:\n",
    "    proj_codes = [r.strip() for r in f.readlines()]\n",
    "\n",
    "template = '/gws/nopw/j04/cmip6_prep_vol1/kerchunk-pipeline/in_progress/CMIP6_rel1_6233/'\n",
    "\n",
    "values = []\n",
    "id = '19433517'\n",
    "for x in range(0, 953):\n",
    "    jobid = f'{id}_{x}'\n",
    "    print(f'seff {jobid} > temp.txt')\n",
    "    os.system(f'seff {jobid} > temp.txt')\n",
    "    if os.path.isfile('temp.txt'):\n",
    "        with open('temp.txt') as f:\n",
    "            contents = [r.strip() for r in f.readlines()]\n",
    "\n",
    "        if 'COMPLETED' in contents[4]:\n",
    "            memory_used = contents[9].split(':')[-1]\n",
    "\n",
    "        with open(f'{template}/{proj_codes[x]}/detail-cfg.json') as f:\n",
    "            detail = json.load(f)\n",
    "        values.append([\n",
    "            memory_used,\n",
    "            detail['estm_chunksize'],\n",
    "            detail['total_chunks']])\n",
    "    print(values)\n",
    "    y = input()\n",
    "\n",
    "        "
   ]
  },
  {
   "cell_type": "code",
   "execution_count": null,
   "id": "20869282-7b14-4c3d-bfef-ee91cf54f053",
   "metadata": {},
   "outputs": [],
   "source": []
  }
 ],
 "metadata": {
  "kernelspec": {
   "display_name": "build_venv",
   "language": "python",
   "name": "build_venv"
  },
  "language_info": {
   "codemirror_mode": {
    "name": "ipython",
    "version": 3
   },
   "file_extension": ".py",
   "mimetype": "text/x-python",
   "name": "python",
   "nbconvert_exporter": "python",
   "pygments_lexer": "ipython3",
   "version": "3.10.8"
  }
 },
 "nbformat": 4,
 "nbformat_minor": 5
}
