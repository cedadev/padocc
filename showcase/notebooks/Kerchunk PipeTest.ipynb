{
 "cells": [
  {
   "cell_type": "markdown",
   "id": "e3564126-b8f6-4dec-8f80-ccb536632f0d",
   "metadata": {},
   "source": [
    "# Diagnose issues with computation of a set of files with Padocc pipeline.\n",
    "This can only be used for a set of files currently *in* the pipeline."
   ]
  },
  {
   "cell_type": "code",
   "execution_count": 1,
   "id": "40c68c76-37b4-49eb-8819-60c86bba7492",
   "metadata": {},
   "outputs": [],
   "source": [
    "from pipeline.compute import KerchunkDSProcessor\n",
    "from pipeline.utils import BypassSwitch"
   ]
  },
  {
   "cell_type": "markdown",
   "id": "b6d2ec93-4556-4583-93c3-11bf88657c80",
   "metadata": {},
   "source": [
    "Define project attributes for use in the Dataset Processor"
   ]
  },
  {
   "cell_type": "code",
   "execution_count": null,
   "id": "1da85a07-6158-4c13-999f-94492def6e21",
   "metadata": {},
   "outputs": [],
   "source": [
    "proj_code = 'example'\n",
    "workdir   = '/example/work/dir/'\n",
    "groupID   = 'example_group'\n",
    "thorough  = True\n",
    "forceful  = True\n",
    "verb      = 2\n",
    "bypass    = BypassSwitch(switch='') # Disable all switches so no errors are produced.\n",
    "limiter   = None\n",
    "ctype     = None # Use to check specific driver issues\n",
    "dryrun    = True # Keep enabled so no files are produced/removed during testing.\n",
    "\n",
    "skip_concat = False # Compute-specific skip - may be integrated into the BypassSwitch class later."
   ]
  },
  {
   "cell_type": "markdown",
   "id": "6abb9157-4cc1-448b-abdc-6d1b25b8cb70",
   "metadata": {},
   "source": [
    "Define a Dataset Processor with all of the project attributes defined above."
   ]
  },
  {
   "cell_type": "code",
   "execution_count": null,
   "id": "0cdb523c-b980-4440-89b6-3904c4c7b208",
   "metadata": {},
   "outputs": [],
   "source": [
    "dsp = KerchunkDSProcessor(\n",
    "    proj_code=proj_code,\n",
    "    workdir=workdir,\n",
    "    groupID=groupID,\n",
    "    thorough=thorough,\n",
    "    forceful=forceful,\n",
    "    verb=verb,\n",
    "    bypass=bypass,\n",
    "    limiter=limiter,\n",
    "    ctype=ctype,\n",
    "    dryrun=dryrun,\n",
    "    skip_concat=skip_concat)"
   ]
  },
  {
   "cell_type": "markdown",
   "id": "ee24d83b-9c26-4540-8346-be26c5fdb400",
   "metadata": {},
   "source": [
    "Now we can attempt to create the required refs for this project. See the documentation at https://cedadev.github.io/kerchunk-builder/compute.html#pipeline.compute.KerchunkDSProcessor to find out which methods can be used. \n",
    "\n",
    "The general process is to use `create_refs` to do all the work, but with specific issues it may be necessary to attempt a lower-level manipulation of the processor."
   ]
  },
  {
   "cell_type": "code",
   "execution_count": null,
   "id": "7b4da0e6-f96c-43dd-9981-5cf97cdbd692",
   "metadata": {},
   "outputs": [],
   "source": [
    "dsp.create_refs()"
   ]
  }
 ],
 "metadata": {
  "kernelspec": {
   "display_name": "build_venv",
   "language": "python",
   "name": "build_venv"
  },
  "language_info": {
   "codemirror_mode": {
    "name": "ipython",
    "version": 3
   },
   "file_extension": ".py",
   "mimetype": "text/x-python",
   "name": "python",
   "nbconvert_exporter": "python",
   "pygments_lexer": "ipython3",
   "version": "3.10.8"
  }
 },
 "nbformat": 4,
 "nbformat_minor": 5
}
