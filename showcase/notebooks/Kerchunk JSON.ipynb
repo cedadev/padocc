{
 "cells": [
  {
   "cell_type": "markdown",
   "id": "3aaa059a-18c7-4dd0-b091-5d05f4da2465",
   "metadata": {},
   "source": [
    "# Kerchunk JSON File Recipe\n",
    "The standard format for Kerchunk files is JSON for storing references to archive data chunks. This requires fsspec and xarray - although these do not need to be the latest, there is no need to not use fsspec 2023.6.0+ and xarray 2023.8.0+ as these will also work with Parquet."
   ]
  },
  {
   "cell_type": "code",
   "execution_count": null,
   "id": "e2d976ae-58b8-4c6f-a34d-836ffebdd14c",
   "metadata": {},
   "outputs": [],
   "source": [
    "import fsspec\n",
    "import xarray as xr"
   ]
  },
  {
   "cell_type": "markdown",
   "id": "5ab538fc-c1d0-4517-a7e1-aae509b4f4b1",
   "metadata": {},
   "source": [
    "Open a virtual filesystem object from fsspec, providing the kerchunk file as a 'reference' type file. Note that if the file is compressed using zstd as some kerchunk files are, the compression needs to be set to 'zstd'/'zst'"
   ]
  },
  {
   "cell_type": "code",
   "execution_count": null,
   "id": "78a06225-11bb-4748-a44f-fe67aeb3881d",
   "metadata": {},
   "outputs": [],
   "source": [
    "kfile = '../../example-kerchunk/kerchunk-kr1.0.json'\n",
    "mapper = fsspec.get_mapper('reference://',fo=kfile, backend_kwargs={'compression':None)"
   ]
  },
  {
   "cell_type": "markdown",
   "id": "ea7afb26-7e2b-40db-a8a0-1558c34559d9",
   "metadata": {},
   "source": [
    "Then we can open a virtual xarray dataset object to plot or perform some processing."
   ]
  },
  {
   "cell_type": "code",
   "execution_count": null,
   "id": "45aac096-a60f-4a18-9ae2-77d29ceb2a03",
   "metadata": {},
   "outputs": [],
   "source": [
    "ds = xr.open_zarr(mapper, consolidated=False)"
   ]
  },
  {
   "cell_type": "markdown",
   "id": "935074c2-d3b1-45d5-b9f6-c46c8aa23b68",
   "metadata": {},
   "source": [
    "Any plotting can then be done with this object."
   ]
  },
  {
   "cell_type": "code",
   "execution_count": null,
   "id": "42d21b4c-ce9c-4049-b9f4-a60b217d4a46",
   "metadata": {},
   "outputs": [],
   "source": [
    "ds['example-variable'].mean(dim='time').plot()"
   ]
  }
 ],
 "metadata": {
  "kernelspec": {
   "display_name": "Python 3 (ipykernel)",
   "language": "python",
   "name": "python3"
  },
  "language_info": {
   "codemirror_mode": {
    "name": "ipython",
    "version": 3
   },
   "file_extension": ".py",
   "mimetype": "text/x-python",
   "name": "python",
   "nbconvert_exporter": "python",
   "pygments_lexer": "ipython3",
   "version": "3.11.6"
  }
 },
 "nbformat": 4,
 "nbformat_minor": 5
}
