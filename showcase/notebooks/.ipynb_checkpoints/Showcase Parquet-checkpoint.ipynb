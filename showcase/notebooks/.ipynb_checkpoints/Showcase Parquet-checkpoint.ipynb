{
 "cells": [
  {
   "cell_type": "markdown",
   "id": "e95ead92-8178-41f0-a97c-09059b645dbd",
   "metadata": {},
   "source": [
    "# Showcase Parquet File Proper Opening Sequence"
   ]
  },
  {
   "cell_type": "code",
   "execution_count": null,
   "id": "8f87dbae-9a47-42d2-b396-25707818c7ca",
   "metadata": {},
   "outputs": [],
   "source": [
    "from kerchunk import hdf, combine, df\n",
    "import fsspec.implementations.reference\n",
    "from fsspec.implementations.reference import LazyReferenceMapper\n",
    "from tempfile import TemporaryDirectory\n",
    "\n",
    "import matplotlib.pyplot as plt\n",
    "\n",
    "import json\n",
    "\n",
    "import xarray as xr\n",
    "import os, sys"
   ]
  },
  {
   "cell_type": "code",
   "execution_count": null,
   "id": "fa66871a-a8bf-4d42-8214-075a286c2cbd",
   "metadata": {},
   "outputs": [],
   "source": [
    "pq = '../../test_parqs/parqs/esacci24'"
   ]
  },
  {
   "cell_type": "markdown",
   "id": "6db58d77-092a-4731-8790-97f0ff84b197",
   "metadata": {},
   "source": [
    "Open Reference File System and use as Mapper for Xarray"
   ]
  },
  {
   "cell_type": "code",
   "execution_count": null,
   "id": "3b28dd86-5cf9-4e08-93ad-62958c62fe7a",
   "metadata": {},
   "outputs": [],
   "source": [
    "fs = fsspec.implementations.reference.ReferenceFileSystem(\n",
    "    pq, \n",
    "    remote_protocol='file', \n",
    "    target_protocol=\"file\", \n",
    "    lazy=True)\n",
    "\n",
    "ds = xr.open_dataset(\n",
    "    fs.get_mapper(), \n",
    "    engine=\"zarr\",\n",
    "    backend_kwargs={\"consolidated\": False, \"decode_times\": False}\n",
    ")"
   ]
  },
  {
   "cell_type": "code",
   "execution_count": null,
   "id": "683483f4-69cb-4725-8bf9-989a5770183a",
   "metadata": {},
   "outputs": [],
   "source": [
    "ds['sea_ice_thickness'].mean(dim='time').plot()"
   ]
  }
 ],
 "metadata": {
  "kernelspec": {
   "display_name": "build_venv",
   "language": "python",
   "name": "build_venv"
  },
  "language_info": {
   "codemirror_mode": {
    "name": "ipython",
    "version": 3
   },
   "file_extension": ".py",
   "mimetype": "text/x-python",
   "name": "python",
   "nbconvert_exporter": "python",
   "pygments_lexer": "ipython3",
   "version": "3.10.5"
  }
 },
 "nbformat": 4,
 "nbformat_minor": 5
}
