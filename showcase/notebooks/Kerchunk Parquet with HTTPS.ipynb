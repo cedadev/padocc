{
 "cells": [
  {
   "cell_type": "markdown",
   "id": "e95ead92-8178-41f0-a97c-09059b645dbd",
   "metadata": {},
   "source": [
    "# Kerchunk Parquet Store Recipe\n",
    "Requires the latest version of fsspec (2023.6.0+) for some of the options in the LazyReferenceMapper required by Parquet stores. Parquet also requires the library fastparquet (2023.7.0+) installed into your Kernel/Environment."
   ]
  },
  {
   "cell_type": "code",
   "execution_count": 1,
   "id": "8f87dbae-9a47-42d2-b396-25707818c7ca",
   "metadata": {},
   "outputs": [],
   "source": [
    "from fsspec.implementations.reference import ReferenceFileSystem\n",
    "import matplotlib.pyplot as plt\n",
    "import xarray as xr"
   ]
  },
  {
   "cell_type": "markdown",
   "id": "5f2f464b-bcb4-4d43-bdaf-c57c61f7feb4",
   "metadata": {},
   "source": [
    "There are two example parquet stores in this repository so far for two ESACCI datasets, these could be Kerchunked using the standard JSON format but for a comparison between the two methods, Parquet versions have also been created.\n",
    "The directory structure reflects that of the Kerchunk pipeline output, which puts all files concerned with a specific dataset inside a single directory labelled with the project code. The kerchunk file revision is set to 1.0 for any new dataset, with revisions later on when fixing metadata."
   ]
  },
  {
   "cell_type": "code",
   "execution_count": 2,
   "id": "fa66871a-a8bf-4d42-8214-075a286c2cbd",
   "metadata": {},
   "outputs": [],
   "source": [
    "pq = '../../examples/ESACCI-SEAICE-L3C-SITHICK-RA2_ENVISAT-NH25KMEASE2-200210-201203-fv2.0/kerchunk-kr1.0.parq'"
   ]
  },
  {
   "cell_type": "markdown",
   "id": "6db58d77-092a-4731-8790-97f0ff84b197",
   "metadata": {},
   "source": [
    "Open Reference File System and use as Mapper for Xarray, with the Lazy loading option set as true and remote protocol as https for the Kerchunk file links using the CEDA DAP service."
   ]
  },
  {
   "cell_type": "code",
   "execution_count": 3,
   "id": "3b28dd86-5cf9-4e08-93ad-62958c62fe7a",
   "metadata": {},
   "outputs": [],
   "source": [
    "fs = ReferenceFileSystem(\n",
    "    pq, \n",
    "    remote_protocol='https', \n",
    "    target_protocol=\"file\", \n",
    "    lazy=True)"
   ]
  },
  {
   "cell_type": "markdown",
   "id": "3d321498-ed8f-48c1-abdc-3c171c915bb2",
   "metadata": {},
   "source": [
    "Now we have the fs virtual filesystem object we can get a mapper for use in xarray to open a virtual dataset."
   ]
  },
  {
   "cell_type": "code",
   "execution_count": 4,
   "id": "08042522-5af9-42fc-8451-258b33326c4c",
   "metadata": {},
   "outputs": [],
   "source": [
    "ds = xr.open_dataset(\n",
    "    fs.get_mapper(), \n",
    "    engine=\"zarr\",\n",
    "    backend_kwargs={\"consolidated\": False, \"decode_times\": False}\n",
    ")"
   ]
  },
  {
   "cell_type": "markdown",
   "id": "20402ef1-f665-400c-aa1a-9f5127c76dcf",
   "metadata": {},
   "source": [
    "The __ds__ virtual xarray dataset is then used as you would with a dataset opened directly from NetCDF.\n",
    "Note that arrays within the virtual dataset are listed as DASK arrays, so to get actual values from calculations, the processing must be forced with methods like __.plot()__ or __.value()__"
   ]
  },
  {
   "cell_type": "code",
   "execution_count": null,
   "id": "683483f4-69cb-4725-8bf9-989a5770183a",
   "metadata": {},
   "outputs": [],
   "source": [
    "ds['sea_ice_thickness'].mean(dim='time').plot()"
   ]
  },
  {
   "cell_type": "code",
   "execution_count": null,
   "id": "d0373539-c8e4-457a-b889-f6afa88be3fd",
   "metadata": {},
   "outputs": [],
   "source": []
  }
 ],
 "metadata": {
  "kernelspec": {
   "display_name": "build_venv",
   "language": "python",
   "name": "build_venv"
  },
  "language_info": {
   "codemirror_mode": {
    "name": "ipython",
    "version": 3
   },
   "file_extension": ".py",
   "mimetype": "text/x-python",
   "name": "python",
   "nbconvert_exporter": "python",
   "pygments_lexer": "ipython3",
   "version": "3.10.5"
  }
 },
 "nbformat": 4,
 "nbformat_minor": 5
}
